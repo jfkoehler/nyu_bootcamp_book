{
 "cells": [
  {
   "cell_type": "markdown",
   "metadata": {},
   "source": [
    "# NYU Stern Data Bootcamp\n",
    "\n",
    "--------\n",
    "![](images/stern.jpg)"
   ]
  },
  {
   "cell_type": "markdown",
   "metadata": {},
   "source": [
    "--------------\n",
    "\n",
    "Data Bootcamp is about nuts and bolts data analysis. You will learn how to analyze economic and business data and enough about computer programming to work with it efficiently.\n",
    "\n",
    "\n",
    "We will use Python, a popular high-level computer language that is widely used in finance, consulting, technology, and other parts of the business world. “High-level” means it is less painful than most (the hard work is being done by the language), but it is a serious language with extensive capabilities.\n",
    "\n",
    "\n",
    "“Data analysis” means descriptions that summarize data in ways that are helpful and informative. “Bootcamp” is a reminder that expertise takes work. Don’t worry, it’s worth it. You will be more valuable to current and future employers. And you will be able to do things more effectively than friends who rely on Excel.\n",
    "\n",
    "\n",
    "#### Information\n",
    "\n",
    "Important Information and Links\n",
    "\n",
    "|    |.    |  |    |\n",
    "| ----- | ----- | ----- | ----- |\n",
    "|**Semester**| Fall 2022 || |\n",
    "|**Instructor**:| Jacob Koehler | **Teaching Assistant** | Lagan Sharma |\n",
    "|**Email**:| jfk11@stern.nyu.edu| **Email** | ls5612@nyu.edu |\n",
    "| **Office Hours** | Thursdays 4pm - 5pm on Zoom | **Zoom Link** | [Office Hours Link](https://NewSchool.zoom.us/j/98585813490) |\n",
    "| [**Slack Channel**](https://join.slack.com/t/slack-y8n7409/shared_invite/zt-1fat2jrb6-DVnQzBVx8FwYzPbNudLU8w) | [**Bootcamp Book**](https://nyudatabootcamp.gitbook.io/thebook/) | [**Github Repository**](https://github.com/jfkoehler/NYU-Bootcamp) |\n",
    "\n",
    "\n",
    "\n"
   ]
  },
  {
   "cell_type": "markdown",
   "metadata": {},
   "source": [
    "### Requirements\n",
    "\n",
    "There are no prerequisites. We welcome students with no prior programming experience and have designed the course with them in mind. What you need is the courage to take on a challenge and the patience to fix computer programs that don’t work. That’s a regular occurrence, even for experts.\n"
   ]
  },
  {
   "cell_type": "markdown",
   "metadata": {},
   "source": [
    "### Getting Help\n",
    "\n",
    "This course has a strong support system to help you when you run into a problem – and anyone who codes runs into programs runs into problems. We have myself and a teaching fellow. \n",
    "\n",
    "You can also ask your classmates for help! You can post questions on our discussion group in slack. The teaching fellow and I will monitor the channel daily and you can post a direct message or a message in the chat to also share with peers.\n",
    "\n",
    "The bottom line: If you’re stuck, ask for help."
   ]
  },
  {
   "cell_type": "markdown",
   "metadata": {},
   "source": [
    "### Deliverables and Grades\n",
    "\n",
    "This course divides naturally into two parts. The first part is an introduction to those aspects of the Python programming language useful for data analysis. We cover this material with as many applications to real data as we can think of. The second part covers advanced topics and ends with a project of your own. The goal is for you to have a piece of work you can show potential employers to illustrate your quantitative skill set. Both parts include a number of graded deliverables. The idea is to do some work all the time rather than lots of work once in a while.\n",
    "\n",
    "Graded work includes:\n",
    "- **Code Practice**. There are eight assignments over the course of the semester. They are a great way to develop your skills and come to the following class with questions about what you may not yet understand.\n",
    "\n",
    "- **Midterm Project**. Midway through the semester, you will be asked to derive unique insight from a dataset that will be delivered to you.\n",
    "\n",
    "- **Final Project**. We work our way up to the project one step at a time, starting with idea generation and ending with a professional piece of data collection and analysis that you can share with potential employers. We have found that the quality of final project had a surprisingly low correlation to previous programming experience. A little thought and effort go a long way in creating an interesting project.\n",
    "\n",
    "Due dates will be shared in Brightspace."
   ]
  },
  {
   "cell_type": "markdown",
   "metadata": {},
   "source": [
    "All your work should be clean and professional. Your grade depends on it.\n",
    "\n",
    "Final grades will be computed from\n",
    "\n",
    "|.  |.  |\n",
    "| ----- | ------ |\n",
    "| Code practice | 35% |\n",
    "| Midterm project | 25% |\n",
    "| Final Project | 35% |\n",
    "| Participation | 5% |\n",
    "\n",
    "Final grades are not subject to any fixed distribution or curve. The number of A grades, for example, will depend only on your performance in the course. If you make a good-faith effort, we expect it to be hard to get less than a B. We are the sole judges of what constitutes good-faith effort.\n",
    "\n"
   ]
  },
  {
   "cell_type": "markdown",
   "metadata": {},
   "source": [
    "**Recommended work habits**\n",
    "\n",
    "Python is not something you can learn from reading a book and attending lectures. You need to write programs – the more the better – to understand how they work. Think about how you'd learn to play basketball or soccer; reading and listening to lectures aren't enough, you need to do it. We'll do a lot of programming in class, but it's essential that you follow up outside of class.\n",
    "Here's how.\n",
    "Write & Review. After each topic, we recommend you:\n",
    "Write: Shortly after class, write down everything you remember without looking at your notes or the book. Note things you don't understand.\n",
    "\n",
    "Review: Read the relevant section of the book. Fill in the gaps. Ask for help with anything you still don't understand.\n",
    "\n",
    "Practice. For the first half of the term, each topic has an assignment that covers the same material. We suggest you do them, even the ones that aren't graded.\n",
    "\n",
    "We also recommend you practice coding whenever you have the chance. Start small. Write short programs to do anything that crosses your mind. Use Python to do things you would ordinarily do in Excel. Try doing assignments from other courses in Python. At first this will be more work than doing it by hand or in Excel, but once you have some experience it will typically be easier in Python. Even if that's not the case, the practice will expand your skill set.\n",
    "\n",
    "\n",
    "**Policies**\n",
    "\n",
    "Ethics, disabilities, and many other things are governed by NYU and Stern policies. If you have questions about them, please ask. \n",
    "On graded work: You may discuss assignments with anyone (in fact, we encourage it), but anything you submit, including your code, should be your own. Exams should be entirely your own work.\n",
    "On disabilities: If you have a qualified disability that requires academic accommodation, please contact the Moses Center for Students with Disabilities (CSD, 212-998-4980) and ask them to send us a letter verifying your registration and outlining the accommodation they recommend. If you need to take an exam at the CSD, you must submit a completed Exam Accommodations Form to them at least one week prior to the scheduled exam time to be assured accommodation.\n",
    "\n"
   ]
  },
  {
   "cell_type": "markdown",
   "metadata": {},
   "source": [
    "#### Outline\n",
    "\n",
    "- **Section I**: Python Fundamentals\n",
    "\n",
    " - **Class I**: Installations and Setup\n",
    " - **Class II**: Numbers, operations, variables, and strings\n",
    " - **Class III**: String methods, lists, tuples, dictionaries\n",
    " - **Class IV**: Conditionals, Loops, Functions\n",
    " \n",
    "- **Section II**: Foundational Libraries\n",
    "\n",
    " - **Class V**: Introduction to NumPy\n",
    " - **Class VI**: Introduction to Pandas I\n",
    " - **Class VII**: Introduction to Pandas II\n",
    " \n",
    "- **Section III**: Data Visualization\n",
    "\n",
    " - **Class VIII**: Introduction to Matplotlib\n",
    " - **Class IX**: Advanced Matplotlib and Seaborn\n",
    " - **Class X**: Bokeh\n",
    " \n",
    "- **Section IV**: Basic Statistics and Probability\n",
    "\n",
    " - **Class XII**: `scipy.stats`, probability distributions, hypothesis testing of means\n",
    " - **Class XIII**: Using an API | Finals Introduction\n",
    " \n",
    "- **Section V**: Basic Predictive Models\n",
    "\n",
    " - **Class XIV**: Optimization\n",
    " - **Class XV**: Linear Regression I: Motivation and Basic Model\n",
    " - **Class XVI**: Linear Regression II: Regularized models and Interpretation\n",
    " - **Class XVII**: Linear Models for Classification I\n",
    " - **Class XVIII**: Linear Models for Classification II\n",
    " \n",
    "\n",
    "\n",
    "\n",
    " \n",
    "\n"
   ]
  },
  {
   "cell_type": "code",
   "execution_count": null,
   "metadata": {},
   "outputs": [],
   "source": []
  }
 ],
 "metadata": {
  "kernelspec": {
   "display_name": "Python 3",
   "language": "python",
   "name": "python3"
  },
  "language_info": {
   "codemirror_mode": {
    "name": "ipython",
    "version": 3
   },
   "file_extension": ".py",
   "mimetype": "text/x-python",
   "name": "python",
   "nbconvert_exporter": "python",
   "pygments_lexer": "ipython3",
   "version": "3.8.3"
  }
 },
 "nbformat": 4,
 "nbformat_minor": 4
}
