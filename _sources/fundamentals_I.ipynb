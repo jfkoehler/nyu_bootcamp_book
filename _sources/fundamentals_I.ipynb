{
 "cells": [
  {
   "cell_type": "markdown",
   "metadata": {},
   "source": [
    "# Python Fundamentals 1 \n",
    "\n",
    "  \n",
    "##  Outline\n",
    "\n",
    "Time to start programming! We work our way through some of the essentials of Python's core language. We will do this within a Jupyter Notebook and along the way, become familiar Markdown as well as other properties of the notebook environment. \n",
    "\n",
    "[This notebook largely follows the discussion in the Book.](https://nyudatabootcamp.gitbook.io/thebook/py-fun1)\n",
    "\n",
    "### Python\n",
    "\n",
    "We will learn elementary syntax, calculations, assignments, and as well as python data types, e.g., floats, strings, lists, dictionaries, and built-in functions. We'll also discover some typical bugs and ways to identify, and fix.\n",
    "\n",
    "**Buzzwords.** Isn't that enough?\n",
    "\n",
    "**Trigger warning.** Technical content, cannot be mastered without effort."
   ]
  },
  {
   "cell_type": "markdown",
   "metadata": {},
   "source": [
    "---\n",
    "\n",
    "## Jupyter Notebook & Markdown Warmup "
   ]
  },
  {
   "cell_type": "markdown",
   "metadata": {},
   "source": [
    "### Jupyter Notebook Essentials\n",
    "\n",
    "**Opening Jupyter**\n",
    "\n",
    "If you are reading this, you've done it already. But just a reminder...\n",
    "\n",
    "* Open your terminal (command prompt on Windows)\n",
    "\n",
    "* Type `jupyter notebook` and press enter.  This will open a tab in your browser with the word Jupyter at the top and your computer's directory structure below it.\n",
    "\n",
    "* In the browser tab, navigate to your `Data_Bootcamp` directory/folder.\n",
    "\n",
    "* Click on the New button in the upper right and choose `Python 3` (it may also refer to this as `Python[Root]`."
   ]
  },
  {
   "cell_type": "markdown",
   "metadata": {},
   "source": [
    "In your browser, you should have an empty notebook with the word Jupyter at the top.  Below it is a **menubar** with the words File, Edit, View, Cell, Kernel, and Help.  "
   ]
  },
  {
   "cell_type": "markdown",
   "metadata": {},
   "source": [
    "**Downloading a Jupyter Notebook from Github**\n",
    "* First go to the notebook github page and then click on *Raw*.\n",
    "* Then, Right click or press command+s (ctrl+s if you are using windows) to save it as .ipynb.\n",
    "* Go to location where you saved .ipynb file.\n",
    "* Open file, you will see the code.\n"
   ]
  },
  {
   "cell_type": "markdown",
   "metadata": {},
   "source": [
    "**Playing with Jupyter**\n",
    "* Change the notebook name.  Click on the name (`Untitled` if we just created a new notebook) to the right of the word Jupyter at the top. A textbox should open up.  Use it to change the name to `bootcamp_sandbox`.\n",
    "* Toolbar buttons.  Let your mouse hover over one of them to see what it does.\n",
    "* Add a cell.  Click on the `+` in the toolbar to create a new cell. \n",
    "* Keyboard shortcuts."
   ]
  },
  {
   "cell_type": "markdown",
   "metadata": {},
   "source": [
    "### Markdown Essentials"
   ]
  },
  {
   "cell_type": "markdown",
   "metadata": {},
   "source": [
    "Markdown is a simplified version of html (\"hypertext markup language\"), the language used to construct basic websites. It has a zen-like simplicity and beauty."
   ]
  },
  {
   "cell_type": "markdown",
   "metadata": {},
   "source": [
    "* **Headings**.  Large bold headings are marked by hashes (`#`).  One hash for first level (very large), two for second level (a little smaller), three for third level (smaller still), four for fourth (the smallest).  Try these in a Markdown cell to see how they look:\n",
    "\n",
    "   ```\n",
    "   # Data Bootcamp sandbox\n",
    "   ## Data Bootcamp sandbox\n",
    "   ### Data Bootcamp sandbox\n",
    "   ```\n",
    "\n",
    "  Be sure to run the cell when you're done (`shift enter`)."
   ]
  },
  {
   "cell_type": "markdown",
   "metadata": {},
   "source": [
    "* **Bold and italics**.  If we put a word or phrase between double asterisks, it's displayed in bold.  Thus `**bold**` displays as **bold**.  If we use single asterisks, we get italics:  `*italics*` displays as *italics*."
   ]
  },
  {
   "cell_type": "markdown",
   "metadata": {},
   "source": [
    "* **Bullet lists**.  If we want a list of items marked by bullets, we start with a blank line and mark each item with an asterisk on a new line:\n",
    "\n",
    "  ```markdown\n",
    "  * something\n",
    "  * something else\n",
    "  ```"
   ]
  },
  {
   "cell_type": "markdown",
   "metadata": {},
   "source": [
    "* **Links**.   We construct a link with the text in square brackets and the url in parentheses immediately afterwards.  Try this one:\n",
    "  ```\n",
    "  [Data Bootcamp course](http://nyu.data-bootcamp.com/)\n",
    "  ```"
   ]
  },
  {
   "cell_type": "markdown",
   "metadata": {},
   "source": [
    "We can find more information about Markdown under Help.  Or use your [Google fu](https://www.urbandictionary.com/define.php?term=google-fu)."
   ]
  },
  {
   "cell_type": "markdown",
   "metadata": {},
   "source": [
    "**Exercise.** Ask questions if you find any of these steps mysterious:\n",
    "\n",
    "* Close Jupyter.\n",
    "\n",
    "* Start Jupyter.\n",
    "\n",
    "* In Jupyter, open an new Ipython notebook within your Data_Bootcamp directory/folder, point to the code cell, the name of the notebook, and the help button.\n",
    "\n",
    "* Save the file bootcamp_class_pyfun1 in your This file will serve as your notes for this class.\n",
    "* Create a description cell in Markdown at the top of your notebook. It should include your name and a description of what you're doing in the notebook. For example: \"Mike Waugh's first notebook for Python fundamentals 1\" and a date."
   ]
  },
  {
   "cell_type": "markdown",
   "metadata": {},
   "source": [
    "---\n",
    "## Simple Calculations and Assignment\n",
    "\n",
    "Literally the \"bread and butter\" of scientific computation...let's get started:\n",
    "\n"
   ]
  },
  {
   "cell_type": "code",
   "execution_count": null,
   "metadata": {
    "collapsed": true,
    "jupyter": {
     "outputs_hidden": true
    }
   },
   "outputs": [],
   "source": [
    " # simple multiplication\n"
   ]
  },
  {
   "cell_type": "code",
   "execution_count": null,
   "metadata": {},
   "outputs": [],
   "source": [
    "# add some white space, nice feature of python is that it is not sensitve to this..\n"
   ]
  },
  {
   "cell_type": "code",
   "execution_count": 1,
   "metadata": {},
   "outputs": [],
   "source": [
    "# add some more...\n"
   ]
  },
  {
   "cell_type": "code",
   "execution_count": 2,
   "metadata": {},
   "outputs": [],
   "source": [
    "# What about division...\n"
   ]
  },
  {
   "cell_type": "code",
   "execution_count": null,
   "metadata": {},
   "outputs": [],
   "source": [
    "# What about module...\n"
   ]
  },
  {
   "cell_type": "markdown",
   "metadata": {},
   "source": [
    "**Side note** Note how in the cell I have comments that are not interperted by python. To create comments simply type ``#`` and then what ever comment you want to make. Comments are **important** because they help make your code readable. "
   ]
  },
  {
   "cell_type": "code",
   "execution_count": 5,
   "metadata": {},
   "outputs": [],
   "source": [
    "### exponents\n"
   ]
  },
  {
   "cell_type": "code",
   "execution_count": 4,
   "metadata": {},
   "outputs": [
    {
     "ename": "NameError",
     "evalue": "name 'log' is not defined",
     "output_type": "error",
     "traceback": [
      "\u001b[0;31m---------------------------------------------------------------------------\u001b[0m",
      "\u001b[0;31mNameError\u001b[0m                                 Traceback (most recent call last)",
      "\u001b[0;32m<ipython-input-4-17ac4993b34d>\u001b[0m in \u001b[0;36m<module>\u001b[0;34m\u001b[0m\n\u001b[0;32m----> 1\u001b[0;31m \u001b[0mtest\u001b[0m \u001b[0;34m=\u001b[0m \u001b[0mlog\u001b[0m\u001b[0;34m(\u001b[0m\u001b[0;36m3\u001b[0m\u001b[0;34m)\u001b[0m \u001b[0;31m# what do you think will happen here...log is not defined\u001b[0m\u001b[0;34m\u001b[0m\u001b[0;34m\u001b[0m\u001b[0m\n\u001b[0m\u001b[1;32m      2\u001b[0m               \u001b[0;31m# log is not a built-in function who will have a different color in notebook\u001b[0m\u001b[0;34m\u001b[0m\u001b[0;34m\u001b[0m\u001b[0;34m\u001b[0m\u001b[0m\n\u001b[1;32m      3\u001b[0m \u001b[0mprint\u001b[0m\u001b[0;34m(\u001b[0m\u001b[0mtest\u001b[0m\u001b[0;34m)\u001b[0m\u001b[0;34m\u001b[0m\u001b[0;34m\u001b[0m\u001b[0m\n",
      "\u001b[0;31mNameError\u001b[0m: name 'log' is not defined"
     ]
    }
   ],
   "source": [
    "test = log(3) # what do you think will happen here...log is not defined\n",
    "              # log is not a built-in function who will have a different color in notebook\n",
    "print(test)"
   ]
  },
  {
   "cell_type": "markdown",
   "metadata": {},
   "source": [
    "Note how the compute just stopped. It did not compute. Remember, python and the computer are DUMB! You gave it an instruction that it did not know what to do, so it stopped, and did not proceed. A couple of points about this:\n",
    "\n",
    "* The top to bottom (within a code cell), simply following instructions/commands nature of a program.\n",
    "\n",
    "* When you run this, note how (after some stuff) tells you where the problem is: Line 1, then this name log is not defined."
   ]
  },
  {
   "cell_type": "markdown",
   "metadata": {},
   "source": [
    "**Assignment** Above I've been assigning variables... but let's look at this more closely..."
   ]
  },
  {
   "cell_type": "code",
   "execution_count": 6,
   "metadata": {},
   "outputs": [],
   "source": [
    "# x = 2\n"
   ]
  },
  {
   "cell_type": "markdown",
   "metadata": {},
   "source": [
    "Nice so the thing on the left is the \"variable\" named \"x\", then the thing on the right is the value that this variable is assigned... then the = sign is the operator that assighns that value."
   ]
  },
  {
   "cell_type": "code",
   "execution_count": 7,
   "metadata": {},
   "outputs": [],
   "source": [
    "#print x\n",
    "\n",
    "#define y\n"
   ]
  },
  {
   "cell_type": "markdown",
   "metadata": {},
   "source": [
    "Now we are getting somewhere, we take these variables and perform an operation. Notice that (like excel) the value assigned to z will change as we change the values assigned to x or y. But there is a difference with excel...what is it?"
   ]
  },
  {
   "cell_type": "code",
   "execution_count": 8,
   "metadata": {},
   "outputs": [],
   "source": [
    "# variable z is quotient\n"
   ]
  },
  {
   "cell_type": "markdown",
   "metadata": {},
   "source": [
    "Here is a place where you might want to figure out what variables there are within the enviornment. For example, what is `x`  (the type and size ignore for now) and then the value...how do you do this, with the `whos` command, which will provide this information. "
   ]
  },
  {
   "cell_type": "code",
   "execution_count": 10,
   "metadata": {},
   "outputs": [],
   "source": [
    "#whos\n"
   ]
  },
  {
   "cell_type": "markdown",
   "metadata": {},
   "source": [
    "This is a nice feature in that it is a way for you to always understand what variables are in your environment at any point in time, their type, etc. \n",
    "\n",
    "---\n",
    "\n",
    "#### Time to practice\n",
    "\n",
    "We will do this alot. Here is the deal: Below are a set of excercises, take a couple of minutes and (i) create a code cell below each one and (ii) try and answer them as best as possible. If we don't cover them all inclass, try and attempt them later as you review."
   ]
  },
  {
   "cell_type": "markdown",
   "metadata": {},
   "source": [
    "**Exercise.** Type `w = 7` in a cell.  In the same cell, next line below, type `w = w + 2`. In the next line below type `w` (so we can see the output). What does this code do?  Why is this not a violation of basic mathematics?"
   ]
  },
  {
   "cell_type": "markdown",
   "metadata": {},
   "source": [
    "**Exercise.** In another code cell type `w = w + 2` and then `w` below it (again so we can see the output). Evaluate this cell once. Do it again. Do it again. What is going on here?"
   ]
  },
  {
   "cell_type": "markdown",
   "metadata": {},
   "source": [
    "**Exercise.**  Suppose we borrow 200 for one year at an interest rate of 5 percent.  If we pay interest plus principal at the end of the year, what is our total payment?  Compute this using the variables `principal = 200` and `i = 0.05`."
   ]
  },
  {
   "cell_type": "markdown",
   "metadata": {},
   "source": [
    "**Exercise.** Real GDP in the US (the total value of things produced) was 15.58 trillion in 2013 and 15.96 trillion in 2014.  What was the growth rate?  Express it as an annual percentage."
   ]
  },
  {
   "cell_type": "markdown",
   "metadata": {},
   "source": [
    "**Exercise (challenging).**  Suppose we have two variables, `x` and `y`.  How would you switch their values, so that `x` takes on `y`'s value and `y` takes on `x`'s?"
   ]
  },
  {
   "cell_type": "markdown",
   "metadata": {},
   "source": [
    "**Exercise (challenging).**  Type `x = 6` in a cell.  We've reassigned `x` so that its value is now 6, not 2. If we type and submit `z`, we see\n",
    "\n",
    "```\n",
    "In [10]: z\n",
    "Out[10]: .6666666666\n",
    "```\n",
    "\n",
    "But wait, if `z` is supposed to be `x/y`, and `x` now equals 6, then shouldn't `z` be 2? What do you think is going on?"
   ]
  }
 ],
 "metadata": {
  "anaconda-cloud": {},
  "hide_input": false,
  "kernelspec": {
   "display_name": "Python 3",
   "language": "python",
   "name": "python3"
  },
  "language_info": {
   "codemirror_mode": {
    "name": "ipython",
    "version": 3
   },
   "file_extension": ".py",
   "mimetype": "text/x-python",
   "name": "python",
   "nbconvert_exporter": "python",
   "pygments_lexer": "ipython3",
   "version": "3.8.3"
  }
 },
 "nbformat": 4,
 "nbformat_minor": 4
}
